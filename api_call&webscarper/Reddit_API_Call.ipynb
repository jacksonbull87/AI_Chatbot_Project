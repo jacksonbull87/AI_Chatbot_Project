{
 "cells": [
  {
   "cell_type": "code",
   "execution_count": 1,
   "metadata": {},
   "outputs": [],
   "source": [
    "# import packages\n",
    "import pandas as pd\n",
    "import numpy as np \n",
    "import re \n",
    "import time\n",
    "import json"
   ]
  },
  {
   "cell_type": "markdown",
   "metadata": {},
   "source": [
    "# Reddit"
   ]
  },
  {
   "cell_type": "code",
   "execution_count": 8,
   "metadata": {},
   "outputs": [],
   "source": [
    "import praw\n",
    "import requests\n",
    "import pickle\n",
    "\n",
    "pickle_in = open(\"individual_info\",\"rb\")\n",
    "individual_info = pickle.load(pickle_in)"
   ]
  },
  {
   "cell_type": "code",
   "execution_count": 13,
   "metadata": {
    "code_folding": []
   },
   "outputs": [],
   "source": [
    "reddit = praw.Reddit(username=individual_info['username'],\n",
    "                      password=individual_info[\"password\"],\n",
    "                     client_id=individual_info['client_id'], \n",
    "                     client_secret=individual_info['client_secret'], \n",
    "                     user_agent=individual_info['user_agent'],\n",
    "                    )"
   ]
  },
  {
   "cell_type": "code",
   "execution_count": 25,
   "metadata": {
    "code_folding": []
   },
   "outputs": [],
   "source": [
    "def extract_data(topic):\n",
    "    subreddit=reddit.subreddit(topic)\n",
    "    hot_python = subreddit.hot(limit=1000)\n",
    "    title_reply=[]\n",
    "    for submission in hot_python:\n",
    "        if not submission.stickied:\n",
    "            comments = submission.comments\n",
    "            for comment in comments:\n",
    "                try:\n",
    "                    title_reply.append({\"body\":comment.body,\n",
    "                                        \"reply\":[reply.body for reply in comment.replies]})                 \n",
    "                except:\n",
    "                    pass\n",
    "                \n",
    "                \n",
    "                \n",
    "    questions=[]\n",
    "    answers=[]\n",
    "    for i in range(len(title_reply)):\n",
    "        questions.append(list(title_reply)[i]['body'])\n",
    "        answers.append(list(title_reply)[i][\"reply\"]) \n",
    "        \n",
    "    return questions,answers"
   ]
  },
  {
   "cell_type": "code",
   "execution_count": 29,
   "metadata": {},
   "outputs": [],
   "source": [
    "# extract data for those topics in the topics1 list \n",
    "topics1=[\"datascience\",\"Python\",\"pythoncoding\",'python_netsec',\"pythontips\",\"pythonprojects2\"]\n",
    "Questions=[]\n",
    "Answers=[]\n",
    "for topic in topics1:\n",
    "    q,a=extract_data(topic)\n",
    "    Questions.append(q)\n",
    "    Answers.append(a)"
   ]
  },
  {
   "cell_type": "code",
   "execution_count": 58,
   "metadata": {
    "code_folding": []
   },
   "outputs": [],
   "source": [
    "topics2=['Numpy','statsmodels',\"matplotlib\",\"datacleansing\",\"anaconda\",\"datavisualization\"]\n",
    "for topic in topics2:\n",
    "    q,a=extract_data(topic)\n",
    "    Questions.append(q)\n",
    "    Answers.append(a)"
   ]
  },
  {
   "cell_type": "code",
   "execution_count": 62,
   "metadata": {},
   "outputs": [
    {
     "data": {
      "text/plain": [
       "(13, 13)"
      ]
     },
     "execution_count": 62,
     "metadata": {},
     "output_type": "execute_result"
    }
   ],
   "source": [
    "len(Questions),len(Answers)"
   ]
  },
  {
   "cell_type": "code",
   "execution_count": 63,
   "metadata": {},
   "outputs": [],
   "source": [
    "Q=[]\n",
    "A=[]\n",
    "for i in range(len(Questions)):\n",
    "    for j in range(len(Questions[i])):\n",
    "        Q.append(Questions[i][j])\n",
    "        A.append(Answers[i][j])"
   ]
  },
  {
   "cell_type": "code",
   "execution_count": 104,
   "metadata": {},
   "outputs": [
    {
     "data": {
      "text/plain": [
       "(11284, 11284)"
      ]
     },
     "execution_count": 104,
     "metadata": {},
     "output_type": "execute_result"
    }
   ],
   "source": [
    "len(Q),len(A)"
   ]
  },
  {
   "cell_type": "code",
   "execution_count": 120,
   "metadata": {},
   "outputs": [],
   "source": [
    "AS=[]\n",
    "for i in A:\n",
    "    try:\n",
    "        AS.append(i[0])\n",
    "    except:\n",
    "        AS.append(None)"
   ]
  },
  {
   "cell_type": "code",
   "execution_count": 122,
   "metadata": {},
   "outputs": [
    {
     "data": {
      "text/plain": [
       "11284"
      ]
     },
     "execution_count": 122,
     "metadata": {},
     "output_type": "execute_result"
    }
   ],
   "source": [
    "len(AS)"
   ]
  },
  {
   "cell_type": "code",
   "execution_count": 96,
   "metadata": {},
   "outputs": [],
   "source": [
    "list_of_answers=[]\n",
    "for i in A:\n",
    "    for j in i:\n",
    "        list_of_answers.append(j)"
   ]
  },
  {
   "cell_type": "code",
   "execution_count": 108,
   "metadata": {},
   "outputs": [
    {
     "data": {
      "text/plain": [
       "6654"
      ]
     },
     "execution_count": 108,
     "metadata": {},
     "output_type": "execute_result"
    }
   ],
   "source": [
    "len(list_of_answers)"
   ]
  },
  {
   "cell_type": "code",
   "execution_count": 114,
   "metadata": {},
   "outputs": [],
   "source": [
    "def rearrange_date(list_of_answers):\n",
    "    new_questions = []\n",
    "    new_answers = []\n",
    "    for i in range(len(list_of_answers)-1):\n",
    "        new_questions.append(list_of_answers[i])\n",
    "        new_answers.append(list_of_answers[i+1])\n",
    "    return new_questions,new_answers\n"
   ]
  },
  {
   "cell_type": "code",
   "execution_count": 115,
   "metadata": {},
   "outputs": [],
   "source": [
    "new_questions,new_answers=rearrange_date(list_of_answers) # create new questions and answers "
   ]
  },
  {
   "cell_type": "code",
   "execution_count": 116,
   "metadata": {},
   "outputs": [
    {
     "data": {
      "text/plain": [
       "(6653, 6653)"
      ]
     },
     "execution_count": 116,
     "metadata": {},
     "output_type": "execute_result"
    }
   ],
   "source": [
    "len(new_questions),len(new_answers) # double check the length"
   ]
  },
  {
   "cell_type": "code",
   "execution_count": 117,
   "metadata": {},
   "outputs": [
    {
     "data": {
      "text/plain": [
       "(\"This. My organization is still new to it as well and so it's not very strict. For us, often a DS and a MLE will often team up to convert the DS's poor excuse for a pipeline into something that will actually work in production. But it's usually after the DS has developed, pitched, and been approved to move forward with whatever they were working on.\",\n",
       " 'My org is very similar but the ML and Eng teams are also separate. Also the ML people are called \"data scientists\" and the DS people are called \"decision scientists\" so it\\'s not at all confusing.')"
      ]
     },
     "execution_count": 117,
     "metadata": {},
     "output_type": "execute_result"
    }
   ],
   "source": [
    "new_questions[0],new_answers[0]"
   ]
  },
  {
   "cell_type": "code",
   "execution_count": 133,
   "metadata": {},
   "outputs": [],
   "source": [
    "questions=Q+new_questions\n",
    "answers=AS+new_answers"
   ]
  },
  {
   "cell_type": "code",
   "execution_count": 134,
   "metadata": {},
   "outputs": [
    {
     "data": {
      "text/plain": [
       "(17937, 17937)"
      ]
     },
     "execution_count": 134,
     "metadata": {},
     "output_type": "execute_result"
    }
   ],
   "source": [
    "len(questions),len(answers)"
   ]
  },
  {
   "cell_type": "code",
   "execution_count": 130,
   "metadata": {},
   "outputs": [],
   "source": [
    "pickle_out1=open('questions', 'wb')\n",
    "pickle_out2=open('answers', 'wb')\n",
    "\n",
    "pickle.dump(reddit, pickle_out1)\n",
    "pickle.dump(reddit, pickle_out2)\n",
    "\n",
    "pickle_out1.close()\n",
    "pickle_out2.close()"
   ]
  },
  {
   "cell_type": "code",
   "execution_count": 131,
   "metadata": {},
   "outputs": [],
   "source": [
    "questions = pickle.load(open(\"questions\",\"rb\"))\n",
    "answers = pickle.load(open(\"answers\",\"rb\"))"
   ]
  },
  {
   "cell_type": "code",
   "execution_count": 137,
   "metadata": {},
   "outputs": [],
   "source": [
    "df=pd.DataFrame()\n",
    "df['question']=questions\n",
    "df[\"answer\"]=answers"
   ]
  },
  {
   "cell_type": "code",
   "execution_count": 138,
   "metadata": {},
   "outputs": [
    {
     "data": {
      "text/html": [
       "<div>\n",
       "<style scoped>\n",
       "    .dataframe tbody tr th:only-of-type {\n",
       "        vertical-align: middle;\n",
       "    }\n",
       "\n",
       "    .dataframe tbody tr th {\n",
       "        vertical-align: top;\n",
       "    }\n",
       "\n",
       "    .dataframe thead th {\n",
       "        text-align: right;\n",
       "    }\n",
       "</style>\n",
       "<table border=\"1\" class=\"dataframe\">\n",
       "  <thead>\n",
       "    <tr style=\"text-align: right;\">\n",
       "      <th></th>\n",
       "      <th>question</th>\n",
       "      <th>answer</th>\n",
       "    </tr>\n",
       "  </thead>\n",
       "  <tbody>\n",
       "    <tr>\n",
       "      <th>0</th>\n",
       "      <td>At my company - data scientists are in the Pro...</td>\n",
       "      <td>This. My organization is still new to it as we...</td>\n",
       "    </tr>\n",
       "    <tr>\n",
       "      <th>1</th>\n",
       "      <td>At my company, the ML Engineers focus on build...</td>\n",
       "      <td>It's the rare DS that can move to MLE in my op...</td>\n",
       "    </tr>\n",
       "    <tr>\n",
       "      <th>2</th>\n",
       "      <td>At my company, we have data scientists, ML eng...</td>\n",
       "      <td>None</td>\n",
       "    </tr>\n",
       "    <tr>\n",
       "      <th>3</th>\n",
       "      <td>At my last job, the data scientists were basic...</td>\n",
       "      <td>None</td>\n",
       "    </tr>\n",
       "    <tr>\n",
       "      <th>4</th>\n",
       "      <td>They seem similar at first but they're in two ...</td>\n",
       "      <td>None</td>\n",
       "    </tr>\n",
       "  </tbody>\n",
       "</table>\n",
       "</div>"
      ],
      "text/plain": [
       "                                            question  \\\n",
       "0  At my company - data scientists are in the Pro...   \n",
       "1  At my company, the ML Engineers focus on build...   \n",
       "2  At my company, we have data scientists, ML eng...   \n",
       "3  At my last job, the data scientists were basic...   \n",
       "4  They seem similar at first but they're in two ...   \n",
       "\n",
       "                                              answer  \n",
       "0  This. My organization is still new to it as we...  \n",
       "1  It's the rare DS that can move to MLE in my op...  \n",
       "2                                               None  \n",
       "3                                               None  \n",
       "4                                               None  "
      ]
     },
     "execution_count": 138,
     "metadata": {},
     "output_type": "execute_result"
    }
   ],
   "source": [
    "df.head()"
   ]
  },
  {
   "cell_type": "code",
   "execution_count": 141,
   "metadata": {},
   "outputs": [],
   "source": [
    "df.to_csv(\"df_python_reddit.csv\")"
   ]
  }
 ],
 "metadata": {
  "kernelspec": {
   "display_name": "Python 3",
   "language": "python",
   "name": "python3"
  },
  "language_info": {
   "codemirror_mode": {
    "name": "ipython",
    "version": 3
   },
   "file_extension": ".py",
   "mimetype": "text/x-python",
   "name": "python",
   "nbconvert_exporter": "python",
   "pygments_lexer": "ipython3",
   "version": "3.7.6"
  },
  "toc": {
   "base_numbering": 1,
   "nav_menu": {},
   "number_sections": true,
   "sideBar": true,
   "skip_h1_title": false,
   "title_cell": "Table of Contents",
   "title_sidebar": "Contents",
   "toc_cell": false,
   "toc_position": {},
   "toc_section_display": true,
   "toc_window_display": false
  }
 },
 "nbformat": 4,
 "nbformat_minor": 2
}
