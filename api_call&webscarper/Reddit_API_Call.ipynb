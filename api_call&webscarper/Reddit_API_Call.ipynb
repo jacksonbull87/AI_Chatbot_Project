{
 "cells": [
  {
   "cell_type": "code",
   "execution_count": 1,
   "metadata": {},
   "outputs": [],
   "source": [
    "# import packages\n",
    "import pandas as pd\n",
    "import numpy as np \n",
    "import re \n",
    "import time\n",
    "import json"
   ]
  },
  {
   "cell_type": "markdown",
   "metadata": {},
   "source": [
    "# Reddit"
   ]
  },
  {
   "cell_type": "code",
   "execution_count": 2,
   "metadata": {},
   "outputs": [],
   "source": [
    "import praw\n",
    "import requests\n",
    "import pickle\n",
    "\n",
    "pickle_in = open(\"individual_info\",\"rb\")\n",
    "individual_info = pickle.load(pickle_in)"
   ]
  },
  {
   "cell_type": "code",
   "execution_count": 3,
   "metadata": {
    "code_folding": []
   },
   "outputs": [],
   "source": [
    "reddit = praw.Reddit(username=individual_info['username'],\n",
    "                      password=individual_info[\"password\"],\n",
    "                     client_id=individual_info['client_id'], \n",
    "                     client_secret=individual_info['client_secret'], \n",
    "                     user_agent=individual_info['user_agent'],\n",
    "                    )"
   ]
  },
  {
   "cell_type": "code",
   "execution_count": 4,
   "metadata": {
    "code_folding": []
   },
   "outputs": [],
   "source": [
    "def extract_data(topic):\n",
    "    subreddit=reddit.subreddit(topic)\n",
    "    hot_python = subreddit.hot(limit=1000)\n",
    "    title_reply=[]\n",
    "    for submission in hot_python:\n",
    "        if not submission.stickied:\n",
    "            comments = submission.comments\n",
    "            for comment in comments:\n",
    "                try:\n",
    "                    title_reply.append({\"body\":comment.body,\n",
    "                                        \"reply\":[reply.body for reply in comment.replies]})                 \n",
    "                except:\n",
    "                    pass\n",
    "                \n",
    "                \n",
    "                \n",
    "    questions=[]\n",
    "    answers=[]\n",
    "    for i in range(len(title_reply)):\n",
    "        questions.append(list(title_reply)[i]['body'])\n",
    "        answers.append(list(title_reply)[i][\"reply\"]) \n",
    "        \n",
    "    return questions,answers"
   ]
  },
  {
   "cell_type": "code",
   "execution_count": 5,
   "metadata": {},
   "outputs": [],
   "source": [
    "# extract data for those topics in the topics1 list \n",
    "topics1=[\"datascience\",\"Python\",\"pythoncoding\",'python_netsec',\"pythontips\",\"pythonprojects2\"]\n",
    "Questions=[]\n",
    "Answers=[]\n",
    "for topic in topics1:\n",
    "    q,a=extract_data(topic)\n",
    "    Questions.append(q)\n",
    "    Answers.append(a)"
   ]
  },
  {
   "cell_type": "code",
   "execution_count": 6,
   "metadata": {
    "code_folding": []
   },
   "outputs": [],
   "source": [
    "topics2=['Numpy','statsmodels',\"matplotlib\",\"datacleansing\",\"anaconda\",\"datavisualization\"]\n",
    "for topic in topics2:\n",
    "    q,a=extract_data(topic)\n",
    "    Questions.append(q)\n",
    "    Answers.append(a)"
   ]
  },
  {
   "cell_type": "code",
   "execution_count": 43,
   "metadata": {},
   "outputs": [
    {
     "data": {
      "text/plain": [
       "(12, 12)"
      ]
     },
     "execution_count": 43,
     "metadata": {},
     "output_type": "execute_result"
    }
   ],
   "source": [
    "len(Questions),len(Answers)"
   ]
  },
  {
   "cell_type": "code",
   "execution_count": 44,
   "metadata": {},
   "outputs": [],
   "source": [
    "questions=[]\n",
    "answers0=[]\n",
    "for i in range(len(Questions)):\n",
    "    for j in range(len(Questions[i])):\n",
    "        questions.append(Questions[i][j])\n",
    "        answers0.append(Answers[i][j])\n",
    "\n",
    "answers=[]\n",
    "for i in answers0:\n",
    "    try:\n",
    "        answers.append(i[0])\n",
    "    except:\n",
    "        answers.append(None)"
   ]
  },
  {
   "cell_type": "code",
   "execution_count": 45,
   "metadata": {},
   "outputs": [
    {
     "data": {
      "text/plain": [
       "(10236, 10236)"
      ]
     },
     "execution_count": 45,
     "metadata": {},
     "output_type": "execute_result"
    }
   ],
   "source": [
    "len(questions),len(answers)"
   ]
  },
  {
   "cell_type": "code",
   "execution_count": 46,
   "metadata": {},
   "outputs": [
    {
     "data": {
      "text/plain": [
       "('This is so interesting my god I love it',\n",
       " 'Yeah, I love OPs style so much and have watched all of his videos! Recommend them to everyone I know as well, are so well made!')"
      ]
     },
     "execution_count": 46,
     "metadata": {},
     "output_type": "execute_result"
    }
   ],
   "source": [
    "questions[1],answers[1]"
   ]
  },
  {
   "cell_type": "code",
   "execution_count": 36,
   "metadata": {},
   "outputs": [],
   "source": [
    "pickle_out1=open('questions', 'wb')\n",
    "pickle_out2=open('answers', 'wb')\n",
    "\n",
    "pickle.dump(reddit, pickle_out1)\n",
    "pickle.dump(reddit, pickle_out2)\n",
    "\n",
    "pickle_out1.close()\n",
    "pickle_out2.close()"
   ]
  },
  {
   "cell_type": "code",
   "execution_count": 37,
   "metadata": {},
   "outputs": [],
   "source": [
    "questions = pickle.load(open(\"questions\",\"rb\"))\n",
    "answers = pickle.load(open(\"answers\",\"rb\"))"
   ]
  },
  {
   "cell_type": "code",
   "execution_count": 47,
   "metadata": {},
   "outputs": [],
   "source": [
    "df=pd.DataFrame()\n",
    "df['question']=questions\n",
    "df[\"answer\"]=answers"
   ]
  },
  {
   "cell_type": "code",
   "execution_count": 48,
   "metadata": {},
   "outputs": [
    {
     "data": {
      "text/html": [
       "<div>\n",
       "<style scoped>\n",
       "    .dataframe tbody tr th:only-of-type {\n",
       "        vertical-align: middle;\n",
       "    }\n",
       "\n",
       "    .dataframe tbody tr th {\n",
       "        vertical-align: top;\n",
       "    }\n",
       "\n",
       "    .dataframe thead th {\n",
       "        text-align: right;\n",
       "    }\n",
       "</style>\n",
       "<table border=\"1\" class=\"dataframe\">\n",
       "  <thead>\n",
       "    <tr style=\"text-align: right;\">\n",
       "      <th></th>\n",
       "      <th>question</th>\n",
       "      <th>answer</th>\n",
       "    </tr>\n",
       "  </thead>\n",
       "  <tbody>\n",
       "    <tr>\n",
       "      <th>0</th>\n",
       "      <td>I've also used plotly with the dash module in ...</td>\n",
       "      <td>Plus you can build Dash apps with R now too, s...</td>\n",
       "    </tr>\n",
       "    <tr>\n",
       "      <th>1</th>\n",
       "      <td>This is so interesting my god I love it</td>\n",
       "      <td>Yeah, I love OPs style so much and have watche...</td>\n",
       "    </tr>\n",
       "    <tr>\n",
       "      <th>2</th>\n",
       "      <td>I used plotly for an R Shiny app recently and ...</td>\n",
       "      <td>None</td>\n",
       "    </tr>\n",
       "    <tr>\n",
       "      <th>3</th>\n",
       "      <td>I watched this video last night at 2 AM and it...</td>\n",
       "      <td>Thanks so much! That's been my main goal with ...</td>\n",
       "    </tr>\n",
       "    <tr>\n",
       "      <th>4</th>\n",
       "      <td>Also check highcharter and r2d3 for even bette...</td>\n",
       "      <td>I second r2d3. I've always found plotly less s...</td>\n",
       "    </tr>\n",
       "  </tbody>\n",
       "</table>\n",
       "</div>"
      ],
      "text/plain": [
       "                                            question  \\\n",
       "0  I've also used plotly with the dash module in ...   \n",
       "1            This is so interesting my god I love it   \n",
       "2  I used plotly for an R Shiny app recently and ...   \n",
       "3  I watched this video last night at 2 AM and it...   \n",
       "4  Also check highcharter and r2d3 for even bette...   \n",
       "\n",
       "                                              answer  \n",
       "0  Plus you can build Dash apps with R now too, s...  \n",
       "1  Yeah, I love OPs style so much and have watche...  \n",
       "2                                               None  \n",
       "3  Thanks so much! That's been my main goal with ...  \n",
       "4  I second r2d3. I've always found plotly less s...  "
      ]
     },
     "execution_count": 48,
     "metadata": {},
     "output_type": "execute_result"
    }
   ],
   "source": [
    "df.head()"
   ]
  },
  {
   "cell_type": "code",
   "execution_count": 49,
   "metadata": {},
   "outputs": [],
   "source": [
    "df.to_csv(\"df_python_reddit.csv\")"
   ]
  },
  {
   "cell_type": "code",
   "execution_count": null,
   "metadata": {},
   "outputs": [],
   "source": []
  },
  {
   "cell_type": "code",
   "execution_count": null,
   "metadata": {},
   "outputs": [],
   "source": []
  },
  {
   "cell_type": "code",
   "execution_count": null,
   "metadata": {},
   "outputs": [],
   "source": []
  }
 ],
 "metadata": {
  "kernelspec": {
   "display_name": "Python 3",
   "language": "python",
   "name": "python3"
  },
  "language_info": {
   "codemirror_mode": {
    "name": "ipython",
    "version": 3
   },
   "file_extension": ".py",
   "mimetype": "text/x-python",
   "name": "python",
   "nbconvert_exporter": "python",
   "pygments_lexer": "ipython3",
   "version": "3.7.6"
  },
  "toc": {
   "base_numbering": 1,
   "nav_menu": {},
   "number_sections": true,
   "sideBar": true,
   "skip_h1_title": false,
   "title_cell": "Table of Contents",
   "title_sidebar": "Contents",
   "toc_cell": false,
   "toc_position": {},
   "toc_section_display": true,
   "toc_window_display": false
  }
 },
 "nbformat": 4,
 "nbformat_minor": 2
}
