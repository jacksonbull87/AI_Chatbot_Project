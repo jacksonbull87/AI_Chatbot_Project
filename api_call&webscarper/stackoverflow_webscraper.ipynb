{
 "cells": [
  {
   "cell_type": "code",
   "execution_count": 8,
   "metadata": {},
   "outputs": [],
   "source": [
    "import json\n",
    "import pandas as pd\n",
    "import requests\n",
    "from bs4  import BeautifulSoup"
   ]
  },
  {
   "cell_type": "markdown",
   "metadata": {},
   "source": [
    "# obtian questions about python from page 1-500"
   ]
  },
  {
   "cell_type": "code",
   "execution_count": 1,
   "metadata": {},
   "outputs": [],
   "source": [
    "def href(soup):\n",
    "    # get all href links from one page \n",
    "    href=[]\n",
    "    for i in soup.find_all(\"a\",class_=\"question-hyperlink\",href=True):\n",
    "        href.append(i['href'])\n",
    "    return href"
   ]
  },
  {
   "cell_type": "code",
   "execution_count": 2,
   "metadata": {},
   "outputs": [],
   "source": [
    "def clean_empty_hrefs(hrefs):\n",
    "   # remove all empty lists\n",
    "    list_hrefs=[]\n",
    "    for i in hrefs:\n",
    "        if i!=[]:\n",
    "            list_hrefs.append(i)\n",
    "    # merge all elemenets in one list\n",
    "    herfs_list=[]\n",
    "    for i in list_hrefs:\n",
    "        for j in i:\n",
    "            herfs_list.append(j)\n",
    "    return herfs_list"
   ]
  },
  {
   "cell_type": "code",
   "execution_count": 3,
   "metadata": {},
   "outputs": [],
   "source": [
    "def add_prefix(herfs_list):\n",
    "    # rearrage those links who do not have 'https://stackoverflow.com' prefix\n",
    "    new_href=[]\n",
    "    prefix='https://stackoverflow.com'\n",
    "    for h in herfs_list:\n",
    "        if 'https' not in h:\n",
    "            m=prefix+h+\"answertab=votes#tab-top\"\n",
    "            new_href.append(m)\n",
    "        else:\n",
    "            new_href.append(h+\"answertab=votes#tab-top\")\n",
    "    return new_href"
   ]
  },
  {
   "cell_type": "code",
   "execution_count": 4,
   "metadata": {},
   "outputs": [],
   "source": [
    "def single_page_scraper(url):\n",
    "    req=requests.get(url=url)\n",
    "    soup=BeautifulSoup(req.text,\"html.parser\")\n",
    "    return soup"
   ]
  },
  {
   "cell_type": "code",
   "execution_count": 5,
   "metadata": {},
   "outputs": [],
   "source": [
    "def single_page_question_answer(url):\n",
    "    page=single_page_scraper(url).find_all(\"div\",class_=\"post-text\",itemprop=\"text\")\n",
    "    question=[i.find(\"p\").get_text()for i in page][0]\n",
    "    answer=[i.find(\"p\").get_text() for i in page][1:3]\n",
    "    \n",
    "    return question,answer"
   ]
  },
  {
   "cell_type": "code",
   "execution_count": 6,
   "metadata": {},
   "outputs": [],
   "source": [
    "def questions_answers(start_page,end_page):\n",
    "    soups=[]\n",
    "    for page in range(start_page,end_page):\n",
    "        req=requests.get(url='https://stackoverflow.com/questions/tagged/python?tab=votes&page={}&pagesize=15'.format(page))\n",
    "        soup=BeautifulSoup(req.text,\"html.parser\")\n",
    "        soups.append(soup)\n",
    "    \n",
    "    print(\"Soups are ready!\")\n",
    "    # obtain all href\n",
    "    hrefs=[]\n",
    "    for soup in soups:\n",
    "        hrefs.append(href(soup))\n",
    "    \n",
    "\n",
    "    herfs_list=clean_empty_hrefs(hrefs)\n",
    "    new_hrefs_list=add_prefix(herfs_list)\n",
    "    print(\"All hrefs are ready!\")\n",
    "\n",
    "    quesitons=[]\n",
    "    answers=[]\n",
    "    for url in new_hrefs_list:\n",
    "        try:\n",
    "            q,a=single_page_question_answer(url)\n",
    "            quesitons.append(q)\n",
    "            answers.append(a)\n",
    "        except:\n",
    "            pass\n",
    "    print(\"quesitons and answers are ready!\")\n",
    "    \n",
    "    new_answers=[]\n",
    "    for i in range(len(answers)):\n",
    "        try:\n",
    "            new_answers.append(answers[i][0])\n",
    "        except:\n",
    "            new_answers.append(None)\n",
    "    print(\"All most done!\")\n",
    "\n",
    "    new_q = []\n",
    "    new_a = []\n",
    "    for i in range(len(new_answers) - 1):\n",
    "        new_q.append(new_answers[i])\n",
    "        new_a.append(new_answers[i+1])\n",
    "    return quesitons+new_q, new_answers+new_a"
   ]
  },
  {
   "cell_type": "code",
   "execution_count": 9,
   "metadata": {},
   "outputs": [
    {
     "name": "stdout",
     "output_type": "stream",
     "text": [
      "Soups are ready!\n",
      "All hrefs are ready!\n",
      "quesitons and answers are ready!\n",
      "All most done!\n"
     ]
    }
   ],
   "source": [
    "Answers,Questions=questions_answers(1,500)"
   ]
  },
  {
   "cell_type": "code",
   "execution_count": null,
   "metadata": {},
   "outputs": [
    {
     "name": "stdout",
     "output_type": "stream",
     "text": [
      "Soups are ready!\n",
      "All hrefs are ready!\n"
     ]
    }
   ],
   "source": [
    "Answers1,Questions1=questions_answers(501,1000)"
   ]
  },
  {
   "cell_type": "code",
   "execution_count": null,
   "metadata": {},
   "outputs": [],
   "source": [
    "Answers2,Questions2=questions_answers(1000,2000)"
   ]
  },
  {
   "cell_type": "code",
   "execution_count": null,
   "metadata": {},
   "outputs": [],
   "source": [
    "Answers3,Questions3=questions_answers(2000,3000)"
   ]
  },
  {
   "cell_type": "code",
   "execution_count": null,
   "metadata": {},
   "outputs": [],
   "source": [
    "Answers4,Questions4=questions_answers(3000,4000)"
   ]
  },
  {
   "cell_type": "code",
   "execution_count": 76,
   "metadata": {},
   "outputs": [],
   "source": [
    "As=Answers+Answers1+Answers2+Answers3+Answers4\n",
    "Qs=Questions+Questions1+Questions2+Questions3+Questions4"
   ]
  },
  {
   "cell_type": "code",
   "execution_count": 77,
   "metadata": {},
   "outputs": [],
   "source": [
    "df=pd.DataFrame()\n",
    "df[\"question\"]=Qs\n",
    "df[\"answer\"]=As"
   ]
  },
  {
   "cell_type": "code",
   "execution_count": 78,
   "metadata": {
    "scrolled": true
   },
   "outputs": [
    {
     "data": {
      "text/html": [
       "<div>\n",
       "<style scoped>\n",
       "    .dataframe tbody tr th:only-of-type {\n",
       "        vertical-align: middle;\n",
       "    }\n",
       "\n",
       "    .dataframe tbody tr th {\n",
       "        vertical-align: top;\n",
       "    }\n",
       "\n",
       "    .dataframe thead th {\n",
       "        text-align: right;\n",
       "    }\n",
       "</style>\n",
       "<table border=\"1\" class=\"dataframe\">\n",
       "  <thead>\n",
       "    <tr style=\"text-align: right;\">\n",
       "      <th></th>\n",
       "      <th>question</th>\n",
       "      <th>answer</th>\n",
       "    </tr>\n",
       "  </thead>\n",
       "  <tbody>\n",
       "    <tr>\n",
       "      <th>0</th>\n",
       "      <td>What is the use of the yield keyword in Python...</td>\n",
       "      <td>To understand what yield does, you must unders...</td>\n",
       "    </tr>\n",
       "    <tr>\n",
       "      <th>1</th>\n",
       "      <td>Given the following code, what does the if __n...</td>\n",
       "      <td>Whenever the Python interpreter reads a source...</td>\n",
       "    </tr>\n",
       "    <tr>\n",
       "      <th>2</th>\n",
       "      <td>If Python does not have a ternary conditional ...</td>\n",
       "      <td>Yes, it was added in version 2.5. The expressi...</td>\n",
       "    </tr>\n",
       "    <tr>\n",
       "      <th>3</th>\n",
       "      <td>In Python, what are metaclasses and what do we...</td>\n",
       "      <td>A metaclass is the class of a class. A class d...</td>\n",
       "    </tr>\n",
       "    <tr>\n",
       "      <th>4</th>\n",
       "      <td>How do you call an external command (as if I'd...</td>\n",
       "      <td>Look at the subprocess module in the standard ...</td>\n",
       "    </tr>\n",
       "  </tbody>\n",
       "</table>\n",
       "</div>"
      ],
      "text/plain": [
       "                                            question  \\\n",
       "0  What is the use of the yield keyword in Python...   \n",
       "1  Given the following code, what does the if __n...   \n",
       "2  If Python does not have a ternary conditional ...   \n",
       "3  In Python, what are metaclasses and what do we...   \n",
       "4  How do you call an external command (as if I'd...   \n",
       "\n",
       "                                              answer  \n",
       "0  To understand what yield does, you must unders...  \n",
       "1  Whenever the Python interpreter reads a source...  \n",
       "2  Yes, it was added in version 2.5. The expressi...  \n",
       "3  A metaclass is the class of a class. A class d...  \n",
       "4  Look at the subprocess module in the standard ...  "
      ]
     },
     "execution_count": 78,
     "metadata": {},
     "output_type": "execute_result"
    }
   ],
   "source": [
    "df.head()"
   ]
  },
  {
   "cell_type": "code",
   "execution_count": 79,
   "metadata": {},
   "outputs": [
    {
     "data": {
      "text/plain": [
       "(4717, 2)"
      ]
     },
     "execution_count": 79,
     "metadata": {},
     "output_type": "execute_result"
    }
   ],
   "source": [
    "df.shape"
   ]
  },
  {
   "cell_type": "code",
   "execution_count": 56,
   "metadata": {},
   "outputs": [],
   "source": [
    "df.to_csv(\"df_python_stackoverflow.csv\")"
   ]
  }
 ],
 "metadata": {
  "kernelspec": {
   "display_name": "Python 3",
   "language": "python",
   "name": "python3"
  },
  "language_info": {
   "codemirror_mode": {
    "name": "ipython",
    "version": 3
   },
   "file_extension": ".py",
   "mimetype": "text/x-python",
   "name": "python",
   "nbconvert_exporter": "python",
   "pygments_lexer": "ipython3",
   "version": "3.5.4"
  },
  "toc": {
   "base_numbering": 1,
   "nav_menu": {},
   "number_sections": true,
   "sideBar": true,
   "skip_h1_title": false,
   "title_cell": "Table of Contents",
   "title_sidebar": "Contents",
   "toc_cell": false,
   "toc_position": {},
   "toc_section_display": true,
   "toc_window_display": false
  }
 },
 "nbformat": 4,
 "nbformat_minor": 4
}
