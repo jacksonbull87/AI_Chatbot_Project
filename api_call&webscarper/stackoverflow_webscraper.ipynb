{
 "cells": [
  {
   "cell_type": "code",
   "execution_count": 1,
   "metadata": {},
   "outputs": [],
   "source": [
    "import json\n",
    "import pandas as pd\n",
    "import requests\n",
    "from bs4  import BeautifulSoup"
   ]
  },
  {
   "cell_type": "markdown",
   "metadata": {},
   "source": [
    "# obtian questions about python from page 1-500"
   ]
  },
  {
   "cell_type": "code",
   "execution_count": 2,
   "metadata": {},
   "outputs": [],
   "source": [
    "def href(soup):\n",
    "    # get all href links from one page \n",
    "    href=[]\n",
    "    for i in soup.find_all(\"a\",class_=\"question-hyperlink\",href=True):\n",
    "        href.append(i['href'])\n",
    "    return href"
   ]
  },
  {
   "cell_type": "code",
   "execution_count": 3,
   "metadata": {},
   "outputs": [],
   "source": [
    "def clean_empty_hrefs(hrefs):\n",
    "   # remove all empty lists\n",
    "    list_hrefs=[]\n",
    "    for i in hrefs:\n",
    "        if i!=[]:\n",
    "            list_hrefs.append(i)\n",
    "    # merge all elemenets in one list\n",
    "    herfs_list=[]\n",
    "    for i in list_hrefs:\n",
    "        for j in i:\n",
    "            herfs_list.append(j)\n",
    "    return herfs_list"
   ]
  },
  {
   "cell_type": "code",
   "execution_count": 4,
   "metadata": {},
   "outputs": [],
   "source": [
    "def add_prefix(herfs_list):\n",
    "    # rearrage those links who do not have 'https://stackoverflow.com' prefix\n",
    "    new_href=[]\n",
    "    prefix='https://stackoverflow.com'\n",
    "    for h in herfs_list:\n",
    "        if 'https' not in h:\n",
    "            m=prefix+h+\"answertab=votes#tab-top\"\n",
    "            new_href.append(m)\n",
    "        else:\n",
    "            new_href.append(h+\"answertab=votes#tab-top\")\n",
    "    return new_href"
   ]
  },
  {
   "cell_type": "code",
   "execution_count": 5,
   "metadata": {},
   "outputs": [],
   "source": [
    "def single_page_scraper(url):\n",
    "    req=requests.get(url=url)\n",
    "    soup=BeautifulSoup(req.text,\"html.parser\")\n",
    "    return soup"
   ]
  },
  {
   "cell_type": "code",
   "execution_count": 6,
   "metadata": {},
   "outputs": [],
   "source": [
    "def single_page_question_answer(url):\n",
    "    page=single_page_scraper(url).find_all(\"div\",class_=\"post-text\",itemprop=\"text\")\n",
    "    question=[i.find(\"p\").get_text()for i in page][0]\n",
    "    answer=[i.find(\"p\").get_text() for i in page][1:3]\n",
    "    \n",
    "    return question,answer"
   ]
  },
  {
   "cell_type": "code",
   "execution_count": 7,
   "metadata": {},
   "outputs": [],
   "source": [
    "import itertools\n",
    "\n",
    "def questions_answers(start_page,end_page):\n",
    "    soups=[]\n",
    "    for page in range(start_page,end_page):\n",
    "        req=requests.get(url='https://stackoverflow.com/questions/tagged/python?tab=votes&page={}&pagesize=15'.format(page))\n",
    "        soup=BeautifulSoup(req.text,\"html.parser\")\n",
    "        soups.append(soup)\n",
    "    \n",
    "    print(\"Soups are ready!\")\n",
    "    # obtain all href\n",
    "    hrefs=[]\n",
    "    for soup in soups:\n",
    "        hrefs.append(href(soup))\n",
    "    \n",
    "\n",
    "    herfs_list=clean_empty_hrefs(hrefs)\n",
    "    new_hrefs_list=add_prefix(herfs_list)\n",
    "    print(\"All hrefs are ready!\")\n",
    "\n",
    "    quesitons=[]\n",
    "    answers=[]\n",
    "    for url in new_hrefs_list:\n",
    "        try:\n",
    "            q,a=single_page_question_answer(url)\n",
    "            quesitons.append(q)\n",
    "            answers.append(a)\n",
    "        except:\n",
    "            pass\n",
    "    print(\"quesitons and answers are ready!\")\n",
    "    \n",
    "    new_answers=[]\n",
    "    for i in range(len(answers)):\n",
    "        try:\n",
    "            new_answers.append(answers[i][0])\n",
    "        except:\n",
    "            new_answers.append(None)\n",
    "    print(\"All most done!\")\n",
    "\n",
    "    new_q = []\n",
    "    new_a = []\n",
    "    merge_answer=list(itertools.chain.from_iterable(answers))\n",
    "    for i in range(len(merge_answer) - 1):\n",
    "        new_q.append(merge_answer[i])\n",
    "        new_a.append(merge_answer[i+1])\n",
    "            \n",
    "    return quesitons+new_q, new_answers+new_a"
   ]
  },
  {
   "cell_type": "code",
   "execution_count": 8,
   "metadata": {
    "scrolled": true
   },
   "outputs": [
    {
     "name": "stdout",
     "output_type": "stream",
     "text": [
      "Soups are ready!\n",
      "All hrefs are ready!\n",
      "quesitons and answers are ready!\n",
      "All most done!\n"
     ]
    }
   ],
   "source": [
    "Questions,Answers=questions_answers(1,500)"
   ]
  },
  {
   "cell_type": "code",
   "execution_count": 9,
   "metadata": {
    "scrolled": true
   },
   "outputs": [
    {
     "name": "stdout",
     "output_type": "stream",
     "text": [
      "Soups are ready!\n",
      "All hrefs are ready!\n",
      "quesitons and answers are ready!\n",
      "All most done!\n"
     ]
    }
   ],
   "source": [
    "Questions1,Answers1=questions_answers(501,1000)"
   ]
  },
  {
   "cell_type": "code",
   "execution_count": 12,
   "metadata": {
    "scrolled": false
   },
   "outputs": [
    {
     "name": "stdout",
     "output_type": "stream",
     "text": [
      "Soups are ready!\n",
      "All hrefs are ready!\n",
      "quesitons and answers are ready!\n",
      "All most done!\n"
     ]
    }
   ],
   "source": [
    "Questions2,Answers2=questions_answers(1000,2000)"
   ]
  },
  {
   "cell_type": "code",
   "execution_count": 14,
   "metadata": {},
   "outputs": [
    {
     "name": "stdout",
     "output_type": "stream",
     "text": [
      "Soups are ready!\n",
      "All hrefs are ready!\n",
      "quesitons and answers are ready!\n",
      "All most done!\n"
     ]
    }
   ],
   "source": [
    "Questions3,Answers3=questions_answers(2000,3000)"
   ]
  },
  {
   "cell_type": "code",
   "execution_count": 16,
   "metadata": {},
   "outputs": [
    {
     "name": "stdout",
     "output_type": "stream",
     "text": [
      "Soups are ready!\n",
      "All hrefs are ready!\n",
      "quesitons and answers are ready!\n",
      "All most done!\n"
     ]
    }
   ],
   "source": [
    "Questions4,Answers4=questions_answers(3000,4000)"
   ]
  },
  {
   "cell_type": "code",
   "execution_count": 27,
   "metadata": {
    "scrolled": false
   },
   "outputs": [
    {
     "name": "stdout",
     "output_type": "stream",
     "text": [
      "Soups are ready!\n",
      "All hrefs are ready!\n",
      "quesitons and answers are ready!\n",
      "All most done!\n"
     ]
    }
   ],
   "source": [
    "Questions5,Answers5=questions_answers(4000,5000)"
   ]
  },
  {
   "cell_type": "code",
   "execution_count": 36,
   "metadata": {
    "scrolled": true
   },
   "outputs": [
    {
     "name": "stdout",
     "output_type": "stream",
     "text": [
      "Soups are ready!\n",
      "All hrefs are ready!\n",
      "quesitons and answers are ready!\n",
      "All most done!\n"
     ]
    }
   ],
   "source": [
    "Questions6,Answers6=questions_answers(5000,6000)"
   ]
  },
  {
   "cell_type": "code",
   "execution_count": 43,
   "metadata": {
    "scrolled": true
   },
   "outputs": [
    {
     "name": "stdout",
     "output_type": "stream",
     "text": [
      "Soups are ready!\n",
      "All hrefs are ready!\n",
      "quesitons and answers are ready!\n",
      "All most done!\n"
     ]
    }
   ],
   "source": [
    "Questions7,Answers7=questions_answers(6000,7000)"
   ]
  },
  {
   "cell_type": "code",
   "execution_count": 45,
   "metadata": {
    "scrolled": true
   },
   "outputs": [
    {
     "name": "stdout",
     "output_type": "stream",
     "text": [
      "Soups are ready!\n",
      "All hrefs are ready!\n",
      "quesitons and answers are ready!\n",
      "All most done!\n"
     ]
    }
   ],
   "source": [
    "Questions8,Answers8=questions_answers(7000,8000)"
   ]
  },
  {
   "cell_type": "code",
   "execution_count": 46,
   "metadata": {},
   "outputs": [],
   "source": [
    "# add up all the data we collected above\n",
    "As=Answers+Answers1+Answers2+Answers3+Answers4+Answers5+Answers6+Answers7+Answers8\n",
    "Qs=Questions+Questions1+Questions2+Questions3+Questions4+Questions5+Questions6+Questions7+Questions8"
   ]
  },
  {
   "cell_type": "code",
   "execution_count": 47,
   "metadata": {},
   "outputs": [],
   "source": [
    "# create a dataframe to store them togehter \n",
    "df=pd.DataFrame()\n",
    "df[\"question\"]=Qs\n",
    "df[\"answer\"]=As"
   ]
  },
  {
   "cell_type": "code",
   "execution_count": 48,
   "metadata": {
    "scrolled": true
   },
   "outputs": [
    {
     "data": {
      "text/html": [
       "<div>\n",
       "<style scoped>\n",
       "    .dataframe tbody tr th:only-of-type {\n",
       "        vertical-align: middle;\n",
       "    }\n",
       "\n",
       "    .dataframe tbody tr th {\n",
       "        vertical-align: top;\n",
       "    }\n",
       "\n",
       "    .dataframe thead th {\n",
       "        text-align: right;\n",
       "    }\n",
       "</style>\n",
       "<table border=\"1\" class=\"dataframe\">\n",
       "  <thead>\n",
       "    <tr style=\"text-align: right;\">\n",
       "      <th></th>\n",
       "      <th>question</th>\n",
       "      <th>answer</th>\n",
       "    </tr>\n",
       "  </thead>\n",
       "  <tbody>\n",
       "    <tr>\n",
       "      <th>0</th>\n",
       "      <td>If I try to use sudo kate to edit a system fil...</td>\n",
       "      <td>Just go ahead and edit the file without the su...</td>\n",
       "    </tr>\n",
       "    <tr>\n",
       "      <th>1</th>\n",
       "      <td>I'm writing a script in Bash that prompts the ...</td>\n",
       "      <td>You may add -s to your read command, so it wou...</td>\n",
       "    </tr>\n",
       "    <tr>\n",
       "      <th>2</th>\n",
       "      <td>If I try to use sudo kate to edit a system fil...</td>\n",
       "      <td>Just go ahead and edit the file without the su...</td>\n",
       "    </tr>\n",
       "    <tr>\n",
       "      <th>3</th>\n",
       "      <td>The Python requests module is simple and elega...</td>\n",
       "      <td>It is the underlying urllib3 library that does...</td>\n",
       "    </tr>\n",
       "    <tr>\n",
       "      <th>4</th>\n",
       "      <td>How can I check if a string has several specif...</td>\n",
       "      <td>Assuming your string is s:</td>\n",
       "    </tr>\n",
       "  </tbody>\n",
       "</table>\n",
       "</div>"
      ],
      "text/plain": [
       "                                            question  \\\n",
       "0  If I try to use sudo kate to edit a system fil...   \n",
       "1  I'm writing a script in Bash that prompts the ...   \n",
       "2  If I try to use sudo kate to edit a system fil...   \n",
       "3  The Python requests module is simple and elega...   \n",
       "4  How can I check if a string has several specif...   \n",
       "\n",
       "                                              answer  \n",
       "0  Just go ahead and edit the file without the su...  \n",
       "1  You may add -s to your read command, so it wou...  \n",
       "2  Just go ahead and edit the file without the su...  \n",
       "3  It is the underlying urllib3 library that does...  \n",
       "4                         Assuming your string is s:  "
      ]
     },
     "execution_count": 48,
     "metadata": {},
     "output_type": "execute_result"
    }
   ],
   "source": [
    "df.head() # first five rows"
   ]
  },
  {
   "cell_type": "code",
   "execution_count": 49,
   "metadata": {},
   "outputs": [
    {
     "data": {
      "text/plain": [
       "(13557, 2)"
      ]
     },
     "execution_count": 49,
     "metadata": {},
     "output_type": "execute_result"
    }
   ],
   "source": [
    "# check the shape \n",
    "df.shape"
   ]
  },
  {
   "cell_type": "code",
   "execution_count": 50,
   "metadata": {},
   "outputs": [],
   "source": [
    "# save as csv file\n",
    "df.to_csv(\"df_python_stackoverflow.csv\")"
   ]
  }
 ],
 "metadata": {
  "kernelspec": {
   "display_name": "Python 3",
   "language": "python",
   "name": "python3"
  },
  "language_info": {
   "codemirror_mode": {
    "name": "ipython",
    "version": 3
   },
   "file_extension": ".py",
   "mimetype": "text/x-python",
   "name": "python",
   "nbconvert_exporter": "python",
   "pygments_lexer": "ipython3",
   "version": "3.7.6"
  },
  "toc": {
   "base_numbering": 1,
   "nav_menu": {},
   "number_sections": true,
   "sideBar": true,
   "skip_h1_title": false,
   "title_cell": "Table of Contents",
   "title_sidebar": "Contents",
   "toc_cell": false,
   "toc_position": {},
   "toc_section_display": true,
   "toc_window_display": false
  }
 },
 "nbformat": 4,
 "nbformat_minor": 4
}
