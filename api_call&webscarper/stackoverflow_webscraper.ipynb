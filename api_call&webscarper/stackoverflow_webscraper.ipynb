{
 "cells": [
  {
   "cell_type": "code",
   "execution_count": 1,
   "metadata": {},
   "outputs": [],
   "source": [
    "import json\n",
    "import pandas as pd\n",
    "import requests\n",
    "from bs4  import BeautifulSoup"
   ]
  },
  {
   "cell_type": "markdown",
   "metadata": {},
   "source": [
    "# obtian all possible questions from page 1-500"
   ]
  },
  {
   "cell_type": "code",
   "execution_count": 2,
   "metadata": {},
   "outputs": [],
   "source": [
    "soups=[]\n",
    "for page in range(1,500):\n",
    "    req=requests.get(url=f'https://stackoverflow.com/questions/tagged/python?tab=votes&page={page}&pagesize=15')\n",
    "    soup=BeautifulSoup(req.text,\"html.parser\")\n",
    "    soups.append(soup)"
   ]
  },
  {
   "cell_type": "code",
   "execution_count": 5,
   "metadata": {},
   "outputs": [],
   "source": [
    "def href(soup):\n",
    "    # get all href links from one page \n",
    "    href=[]\n",
    "    for i in soup.find_all(\"a\",class_=\"question-hyperlink\",href=True):\n",
    "        href.append(i['href'])\n",
    "    return href"
   ]
  },
  {
   "cell_type": "code",
   "execution_count": 6,
   "metadata": {},
   "outputs": [],
   "source": [
    "# obtain all href\n",
    "hrefs=[]\n",
    "for soup in soups:\n",
    "    hrefs.append(href(soup))"
   ]
  },
  {
   "cell_type": "code",
   "execution_count": 14,
   "metadata": {},
   "outputs": [],
   "source": [
    "import pickle\n",
    "\n",
    "pickle_out=open('hrefs', 'wb')\n",
    "\n",
    "pickle.dump(hrefs, pickle_out)\n",
    "\n",
    "pickle_out.close()"
   ]
  },
  {
   "cell_type": "code",
   "execution_count": 15,
   "metadata": {},
   "outputs": [],
   "source": [
    "pickle_in = open(\"hrefs\",\"rb\")\n",
    "\n",
    "hrefs = pickle.load(pickle_in)"
   ]
  },
  {
   "cell_type": "code",
   "execution_count": 22,
   "metadata": {},
   "outputs": [],
   "source": [
    "# remove all empty lists\n",
    "list_hrefs=[]\n",
    "for i in hrefs:\n",
    "    if i!=[]:\n",
    "        list_hrefs.append(i)"
   ]
  },
  {
   "cell_type": "code",
   "execution_count": 25,
   "metadata": {},
   "outputs": [],
   "source": [
    "# merge all elemenets in one list\n",
    "herfs_list=[]\n",
    "for i in list_hrefs:\n",
    "    for j in i:\n",
    "        herfs_list.append(j)"
   ]
  },
  {
   "cell_type": "code",
   "execution_count": 28,
   "metadata": {},
   "outputs": [
    {
     "data": {
      "text/plain": [
       "17834"
      ]
     },
     "execution_count": 28,
     "metadata": {},
     "output_type": "execute_result"
    }
   ],
   "source": [
    "len(herfs_list) "
   ]
  },
  {
   "cell_type": "code",
   "execution_count": 43,
   "metadata": {},
   "outputs": [],
   "source": [
    "def rearrange(herfs_list):\n",
    "    # rearrage those links who do not have 'https://stackoverflow.com' prefix\n",
    "    new_href=[]\n",
    "    prefix='https://stackoverflow.com'\n",
    "    for h in herfs_list:\n",
    "        if 'https' not in h:\n",
    "            m=prefix+h+\"answertab=votes#tab-top\"\n",
    "            new_href.append(m)\n",
    "        else:\n",
    "            new_href.append(h+\"answertab=votes#tab-top\")\n",
    "    return new_href"
   ]
  },
  {
   "cell_type": "code",
   "execution_count": 44,
   "metadata": {},
   "outputs": [],
   "source": [
    "new_hrefs_list=rearrange(herfs_list) # using the function above to get correct links"
   ]
  },
  {
   "cell_type": "code",
   "execution_count": null,
   "metadata": {},
   "outputs": [],
   "source": [
    "# new we have a list of links for each page \n",
    "# then let us scrape each page and using loop"
   ]
  },
  {
   "cell_type": "code",
   "execution_count": 40,
   "metadata": {},
   "outputs": [],
   "source": [
    "def single_page_scraper(url):\n",
    "    req=requests.get(url=url)\n",
    "    soup=BeautifulSoup(req.text,\"html.parser\")\n",
    "    return soup"
   ]
  },
  {
   "cell_type": "code",
   "execution_count": 41,
   "metadata": {},
   "outputs": [],
   "source": [
    "def question_answer(url):\n",
    "    page=single_page_scraper(url).find_all(\"div\",class_=\"post-text\",itemprop=\"text\")\n",
    "    question=[i.find(\"p\")for i in page][0]\n",
    "    answer=[i.find(\"p\") for i in page][1:3]\n",
    "    \n",
    "    return question,answer"
   ]
  },
  {
   "cell_type": "code",
   "execution_count": 46,
   "metadata": {},
   "outputs": [],
   "source": [
    "quesitons=[]\n",
    "answers=[]\n",
    "for url in new_hrefs_list:\n",
    "    try:\n",
    "        q,a=question_answer(url)\n",
    "        quesitons.append(q)\n",
    "        answers.append(a)\n",
    "    except:\n",
    "        pass"
   ]
  },
  {
   "cell_type": "code",
   "execution_count": 50,
   "metadata": {},
   "outputs": [
    {
     "data": {
      "text/plain": [
       "(918, 918)"
      ]
     },
     "execution_count": 50,
     "metadata": {},
     "output_type": "execute_result"
    }
   ],
   "source": [
    "len(answers),len(quesitons)"
   ]
  },
  {
   "cell_type": "code",
   "execution_count": 130,
   "metadata": {},
   "outputs": [
    {
     "data": {
      "text/plain": [
       "[<p>To understand what <code>yield</code> does, you must understand what <em>generators</em> are. And before you can understand generators, you must understand <em>iterables</em>.</p>,\n",
       " <p>Whenever the Python interpreter reads a source file, it does two things:</p>,\n",
       " <p>Yes, it was <a href=\"https://mail.python.org/pipermail/python-dev/2005-September/056846.html\" rel=\"nofollow noreferrer\" title=\"[Python-Dev] Conditional Expression Resolution\">added</a> in version 2.5. The expression syntax is:</p>]"
      ]
     },
     "execution_count": 130,
     "metadata": {},
     "output_type": "execute_result"
    }
   ],
   "source": [
    "answer=[]\n",
    "for i in range(len(answers)):\n",
    "    try:\n",
    "        answer.append(answers[i][0])\n",
    "    except:\n",
    "        answer.append(None)\n",
    "\n",
    "answer[:3]    "
   ]
  },
  {
   "cell_type": "code",
   "execution_count": 131,
   "metadata": {},
   "outputs": [],
   "source": [
    "def rearrange_data(answer):\n",
    "    new_questions = []\n",
    "    new_answers = []\n",
    "    for i in range(len(answer) - 1):\n",
    "        new_questions.append(answer[i])\n",
    "        new_answers.append(answer[i+1])\n",
    "    return new_questions,new_answers"
   ]
  },
  {
   "cell_type": "code",
   "execution_count": 132,
   "metadata": {},
   "outputs": [],
   "source": [
    "new_questions1,new_answers1=rearrange_date(answers)"
   ]
  },
  {
   "cell_type": "code",
   "execution_count": 135,
   "metadata": {},
   "outputs": [
    {
     "data": {
      "text/plain": [
       "(845,\n",
       " 845,\n",
       " <p>To understand what <code>yield</code> does, you must understand what <em>generators</em> are. And before you can understand generators, you must understand <em>iterables</em>.</p>,\n",
       " <p>When you see a function with <code>yield</code> statements, apply this easy trick to understand what will happen:</p>)"
      ]
     },
     "execution_count": 135,
     "metadata": {},
     "output_type": "execute_result"
    }
   ],
   "source": [
    "len(new_questions1),len(new_answers1),new_questions1[0],new_answers1[0]"
   ]
  },
  {
   "cell_type": "code",
   "execution_count": 136,
   "metadata": {},
   "outputs": [],
   "source": [
    "Answers=answer+new_answers1\n",
    "Questions=quesitons+new_questions1"
   ]
  },
  {
   "cell_type": "code",
   "execution_count": 137,
   "metadata": {},
   "outputs": [
    {
     "data": {
      "text/plain": [
       "1763"
      ]
     },
     "execution_count": 137,
     "metadata": {},
     "output_type": "execute_result"
    }
   ],
   "source": [
    "len(Answers)"
   ]
  },
  {
   "cell_type": "markdown",
   "metadata": {},
   "source": [
    "# Get the data from page 500 -1000"
   ]
  },
  {
   "cell_type": "code",
   "execution_count": 95,
   "metadata": {},
   "outputs": [],
   "source": [
    "# scrape data from page 500-1000\n",
    "soups1=[]\n",
    "for page in range(500,1001):\n",
    "    req=requests.get(url=f'https://stackoverflow.com/questions/tagged/python?tab=votes&page={page}&pagesize=15')\n",
    "    soup=BeautifulSoup(req.text,\"html.parser\")\n",
    "    soups1.append(soup)\n",
    "    "
   ]
  },
  {
   "cell_type": "code",
   "execution_count": 96,
   "metadata": {},
   "outputs": [],
   "source": [
    "# obtain all href\n",
    "hrefs500_1000=[]\n",
    "for soup in soups1:\n",
    "    hrefs500_1000.append(href(soup))"
   ]
  },
  {
   "cell_type": "code",
   "execution_count": 97,
   "metadata": {},
   "outputs": [],
   "source": [
    "def clean_merge(hrefs):\n",
    "   # remove all empty lists\n",
    "    list_hrefs=[]\n",
    "    for i in hrefs:\n",
    "        if i!=[]:\n",
    "            list_hrefs.append(i)\n",
    "\n",
    "    # merge all elemenets in one list\n",
    "    herfs_list=[]\n",
    "    for i in list_hrefs:\n",
    "        for j in i:\n",
    "            herfs_list.append(j)\n",
    "    return herfs_list"
   ]
  },
  {
   "cell_type": "code",
   "execution_count": 98,
   "metadata": {},
   "outputs": [],
   "source": [
    "herfs_list500_1000= clean_merge(hrefs500_1000)"
   ]
  },
  {
   "cell_type": "code",
   "execution_count": 99,
   "metadata": {},
   "outputs": [],
   "source": [
    "new_hrefs_list500_1000=rearrange(herfs_list500_1000) "
   ]
  },
  {
   "cell_type": "code",
   "execution_count": 100,
   "metadata": {},
   "outputs": [],
   "source": [
    "quesitons500_1000=[]\n",
    "answers500_1000=[]\n",
    "for url in new_hrefs_list500_1000:\n",
    "    try:\n",
    "        q,a=question_answer(url)\n",
    "        quesitons500_1000.append(q)\n",
    "        answers500_1000.append(a)\n",
    "    except:\n",
    "        pass"
   ]
  },
  {
   "cell_type": "code",
   "execution_count": 101,
   "metadata": {},
   "outputs": [
    {
     "data": {
      "text/plain": [
       "(914, 914)"
      ]
     },
     "execution_count": 101,
     "metadata": {},
     "output_type": "execute_result"
    }
   ],
   "source": [
    "len(answers500_1000),len(quesitons500_1000)"
   ]
  },
  {
   "cell_type": "code",
   "execution_count": 141,
   "metadata": {},
   "outputs": [
    {
     "data": {
      "text/plain": [
       "[<p>From within <code>script.py</code>, set the <a href=\"https://docs.python.org/3/using/cmdline.html#envvar-PYTHONINSPECT\"><code>PYTHONINSPECT</code></a> environment variable to any nonempty string. Python will recheck this environment variable at the end of the program and enter interactive mode.</p>,\n",
       " <p>Find all the target elements (there are some ways to do this), and then use built-in function <code>len()</code> to get the count. For example, if you mean to count only direct child elements of root :</p>,\n",
       " <p>Scikit learn provides you two approaches to linear regression:</p>]"
      ]
     },
     "execution_count": 141,
     "metadata": {},
     "output_type": "execute_result"
    }
   ],
   "source": [
    "answer500=[]\n",
    "for i in range(len(answers500_1000)):\n",
    "    try:\n",
    "        answer500.append(answers500_1000[i][0])\n",
    "    except:\n",
    "        answer500.append(None)\n",
    "answer500[:3]"
   ]
  },
  {
   "cell_type": "code",
   "execution_count": 144,
   "metadata": {},
   "outputs": [],
   "source": [
    "new_questions500_1000,new_answers500_1000=rearrange_data(answers500_1000)"
   ]
  },
  {
   "cell_type": "code",
   "execution_count": 145,
   "metadata": {},
   "outputs": [],
   "source": [
    "As =Answers  +answer500           +new_answers500_1000\n",
    "Qs=Questions+quesitons500_1000+new_questions500_1000"
   ]
  },
  {
   "cell_type": "code",
   "execution_count": 146,
   "metadata": {},
   "outputs": [
    {
     "data": {
      "text/plain": [
       "(3590, 3590)"
      ]
     },
     "execution_count": 146,
     "metadata": {},
     "output_type": "execute_result"
    }
   ],
   "source": [
    "len(As),len(Qs)"
   ]
  },
  {
   "cell_type": "code",
   "execution_count": 160,
   "metadata": {},
   "outputs": [
    {
     "data": {
      "text/plain": [
       "(<p>Given the following code, what does the <code>if __name__ == \"__main__\":</code> do?</p>,\n",
       " <p>Whenever the Python interpreter reads a source file, it does two things:</p>)"
      ]
     },
     "execution_count": 160,
     "metadata": {},
     "output_type": "execute_result"
    }
   ],
   "source": [
    "Qs[1],As[1]"
   ]
  },
  {
   "cell_type": "code",
   "execution_count": 167,
   "metadata": {},
   "outputs": [],
   "source": [
    "def clean_text(text):\n",
    "    text=str(text).replace(\"<p>\",\"\")\n",
    "    text=text.replace(\"</p>\",\"\")\n",
    "    text=text.replace(\"<code>\",\"\")\n",
    "    text=text.replace(\"</code>\",\"\")\n",
    "    text=text.replace(\"[\",\"\")\n",
    "    text=text.replace(\"]\",\"\")\n",
    "    text=text.replace(\"<a href=\",\"\")\n",
    "    text=text.replace(\"</a>\",\"\")\n",
    "    return text\n",
    "\n"
   ]
  },
  {
   "cell_type": "code",
   "execution_count": 171,
   "metadata": {},
   "outputs": [
    {
     "data": {
      "text/plain": [
       "3590"
      ]
     },
     "execution_count": 171,
     "metadata": {},
     "output_type": "execute_result"
    }
   ],
   "source": [
    "qq=[]\n",
    "for text in Qs:\n",
    "    try:\n",
    "        qq.append(clean_text(text))\n",
    "    except:\n",
    "        qq.append(None)\n",
    "len(qq)"
   ]
  },
  {
   "cell_type": "code",
   "execution_count": 172,
   "metadata": {},
   "outputs": [
    {
     "data": {
      "text/plain": [
       "3590"
      ]
     },
     "execution_count": 172,
     "metadata": {},
     "output_type": "execute_result"
    }
   ],
   "source": [
    "aa=[]\n",
    "for text in As:\n",
    "    try:\n",
    "        aa.append(clean_text(text))\n",
    "    except:\n",
    "        aa.append(None)\n",
    "len(aa)"
   ]
  },
  {
   "cell_type": "code",
   "execution_count": 174,
   "metadata": {},
   "outputs": [],
   "source": [
    "df=pd.DataFrame()\n",
    "df[\"question\"]=qq\n",
    "df[\"answer\"]=aa"
   ]
  },
  {
   "cell_type": "code",
   "execution_count": 175,
   "metadata": {
    "scrolled": true
   },
   "outputs": [
    {
     "data": {
      "text/html": [
       "<div>\n",
       "<style scoped>\n",
       "    .dataframe tbody tr th:only-of-type {\n",
       "        vertical-align: middle;\n",
       "    }\n",
       "\n",
       "    .dataframe tbody tr th {\n",
       "        vertical-align: top;\n",
       "    }\n",
       "\n",
       "    .dataframe thead th {\n",
       "        text-align: right;\n",
       "    }\n",
       "</style>\n",
       "<table border=\"1\" class=\"dataframe\">\n",
       "  <thead>\n",
       "    <tr style=\"text-align: right;\">\n",
       "      <th></th>\n",
       "      <th>question</th>\n",
       "      <th>answer</th>\n",
       "    </tr>\n",
       "  </thead>\n",
       "  <tbody>\n",
       "    <tr>\n",
       "      <th>0</th>\n",
       "      <td>What is the use of the yield keyword in Python...</td>\n",
       "      <td>To understand what yield does, you must unders...</td>\n",
       "    </tr>\n",
       "    <tr>\n",
       "      <th>1</th>\n",
       "      <td>Given the following code, what does the if __n...</td>\n",
       "      <td>Whenever the Python interpreter reads a source...</td>\n",
       "    </tr>\n",
       "    <tr>\n",
       "      <th>2</th>\n",
       "      <td>If Python does not have a ternary conditional ...</td>\n",
       "      <td>Yes, it was \"https://mail.python.org/pipermail...</td>\n",
       "    </tr>\n",
       "    <tr>\n",
       "      <th>3</th>\n",
       "      <td>In Python, what are metaclasses and what do we...</td>\n",
       "      <td>A metaclass is the class of a class. A class d...</td>\n",
       "    </tr>\n",
       "    <tr>\n",
       "      <th>4</th>\n",
       "      <td>How do I check if a file exists or not, withou...</td>\n",
       "      <td>If the reason you're checking is so you can do...</td>\n",
       "    </tr>\n",
       "  </tbody>\n",
       "</table>\n",
       "</div>"
      ],
      "text/plain": [
       "                                            question  \\\n",
       "0  What is the use of the yield keyword in Python...   \n",
       "1  Given the following code, what does the if __n...   \n",
       "2  If Python does not have a ternary conditional ...   \n",
       "3  In Python, what are metaclasses and what do we...   \n",
       "4  How do I check if a file exists or not, withou...   \n",
       "\n",
       "                                              answer  \n",
       "0  To understand what yield does, you must unders...  \n",
       "1  Whenever the Python interpreter reads a source...  \n",
       "2  Yes, it was \"https://mail.python.org/pipermail...  \n",
       "3  A metaclass is the class of a class. A class d...  \n",
       "4  If the reason you're checking is so you can do...  "
      ]
     },
     "execution_count": 175,
     "metadata": {},
     "output_type": "execute_result"
    }
   ],
   "source": [
    "df.head()"
   ]
  },
  {
   "cell_type": "code",
   "execution_count": 177,
   "metadata": {},
   "outputs": [],
   "source": [
    "df.to_csv(\"df_python_stackoverflow.csv\")"
   ]
  },
  {
   "cell_type": "code",
   "execution_count": null,
   "metadata": {},
   "outputs": [],
   "source": []
  }
 ],
 "metadata": {
  "kernelspec": {
   "display_name": "Python 3",
   "language": "python",
   "name": "python3"
  },
  "language_info": {
   "codemirror_mode": {
    "name": "ipython",
    "version": 3
   },
   "file_extension": ".py",
   "mimetype": "text/x-python",
   "name": "python",
   "nbconvert_exporter": "python",
   "pygments_lexer": "ipython3",
   "version": "3.7.6"
  },
  "toc": {
   "base_numbering": 1,
   "nav_menu": {},
   "number_sections": true,
   "sideBar": true,
   "skip_h1_title": false,
   "title_cell": "Table of Contents",
   "title_sidebar": "Contents",
   "toc_cell": false,
   "toc_position": {},
   "toc_section_display": true,
   "toc_window_display": false
  }
 },
 "nbformat": 4,
 "nbformat_minor": 4
}
